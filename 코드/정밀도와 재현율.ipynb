{
 "cells": [
  {
   "cell_type": "code",
   "execution_count": 7,
   "metadata": {},
   "outputs": [
    {
     "data": {
      "text/plain": [
       "[Text(0, 0.5, 'Time'), Text(0.5, 0, 'Score'), Text(0.5, 1.0, 'First')]"
      ]
     },
     "execution_count": 7,
     "metadata": {},
     "output_type": "execute_result"
    },
    {
     "data": {
      "image/png": "[encoded data removed]",
      "text/plain": [
       "<Figure size 576x288 with 2 Axes>"
      ]
     },
     "metadata": {
      "needs_background": "light"
     },
     "output_type": "display_data"
    }
   ],
   "source": [
    "# 필요한 모듈을 불러옵니다.\n",
    "import matplotlib.pyplot as plt\n",
    "%matplotlib inline\n",
    "\n",
    "# 그래프를 그릴 X, Y 값을 입력합니다.\n",
    "x = [1,2,3,4,5,6,7,8,9,10]\n",
    "y = [2,3,4,6,7,9,10,16,17,20]\n",
    "\n",
    "# Get the figure and the axes\n",
    "fig, (ax0, ax1) = plt.subplots(nrows=1,ncols=2, sharey=False, figsize=(8, 4))\n",
    "\n",
    "# 첫번째 그래프\n",
    "ax0.plot(x,y) # 선 그래프\n",
    "ax0.set_ylim([2,20]) # y축의 값을 지정\n",
    "ax0.set(title='First', xlabel='Score', ylabel='Time')"
   ]
  },
  {
   "cell_type": "code",
   "execution_count": 8,
   "metadata": {},
   "outputs": [
    {
     "data": {
      "text/plain": [
       "[Text(0, 0.5, 'Time'), Text(0.5, 0, 'Score'), Text(0.5, 1.0, 'First')]"
      ]
     },
     "execution_count": 8,
     "metadata": {},
     "output_type": "execute_result"
    },
    {
     "name": "stderr",
     "output_type": "stream",
     "text": [
      "Exception in Tkinter callback\n",
      "Traceback (most recent call last):\n",
      "  File \"C:\\Users\\BIT_45\\anaconda3\\lib\\tkinter\\__init__.py\", line 1883, in __call__\n",
      "    return self.func(*args)\n",
      "  File \"C:\\Users\\BIT_45\\anaconda3\\lib\\tkinter\\__init__.py\", line 804, in callit\n",
      "    func(*args)\n",
      "  File \"C:\\Users\\BIT_45\\anaconda3\\lib\\site-packages\\matplotlib\\backends\\_backend_tk.py\", line 270, in idle_draw\n",
      "    self.draw()\n",
      "  File \"C:\\Users\\BIT_45\\anaconda3\\lib\\site-packages\\matplotlib\\backends\\backend_tkagg.py\", line 9, in draw\n",
      "    super(FigureCanvasTkAgg, self).draw()\n",
      "  File \"C:\\Users\\BIT_45\\anaconda3\\lib\\site-packages\\matplotlib\\backends\\backend_agg.py\", line 393, in draw\n",
      "    self.figure.draw(self.renderer)\n",
      "  File \"C:\\Users\\BIT_45\\anaconda3\\lib\\site-packages\\matplotlib\\backend_bases.py\", line 1556, in _draw\n",
      "    def _draw(renderer): raise Done(renderer)\n",
      "matplotlib.backend_bases._get_renderer.<locals>.Done: <matplotlib.backends.backend_agg.RendererAgg object at 0x000001D181A92520>\n",
      "Exception in Tkinter callback\n",
      "Traceback (most recent call last):\n",
      "  File \"C:\\Users\\BIT_45\\anaconda3\\lib\\tkinter\\__init__.py\", line 1883, in __call__\n",
      "    return self.func(*args)\n",
      "  File \"C:\\Users\\BIT_45\\anaconda3\\lib\\site-packages\\matplotlib\\backends\\_backend_tk.py\", line 259, in resize\n",
      "    self.draw()\n",
      "  File \"C:\\Users\\BIT_45\\anaconda3\\lib\\site-packages\\matplotlib\\backends\\backend_tkagg.py\", line 9, in draw\n",
      "    super(FigureCanvasTkAgg, self).draw()\n",
      "  File \"C:\\Users\\BIT_45\\anaconda3\\lib\\site-packages\\matplotlib\\backends\\backend_agg.py\", line 393, in draw\n",
      "    self.figure.draw(self.renderer)\n",
      "  File \"C:\\Users\\BIT_45\\anaconda3\\lib\\site-packages\\matplotlib\\backend_bases.py\", line 1556, in _draw\n",
      "    def _draw(renderer): raise Done(renderer)\n",
      "matplotlib.backend_bases._get_renderer.<locals>.Done: <matplotlib.backends.backend_agg.RendererAgg object at 0x000001D181A92520>\n",
      "Exception in Tkinter callback\n",
      "Traceback (most recent call last):\n",
      "  File \"C:\\Users\\BIT_45\\anaconda3\\lib\\tkinter\\__init__.py\", line 1883, in __call__\n",
      "    return self.func(*args)\n",
      "  File \"C:\\Users\\BIT_45\\anaconda3\\lib\\tkinter\\__init__.py\", line 804, in callit\n",
      "    func(*args)\n",
      "  File \"C:\\Users\\BIT_45\\anaconda3\\lib\\site-packages\\matplotlib\\backends\\_backend_tk.py\", line 270, in idle_draw\n",
      "    self.draw()\n",
      "  File \"C:\\Users\\BIT_45\\anaconda3\\lib\\site-packages\\matplotlib\\backends\\backend_tkagg.py\", line 9, in draw\n",
      "    super(FigureCanvasTkAgg, self).draw()\n",
      "  File \"C:\\Users\\BIT_45\\anaconda3\\lib\\site-packages\\matplotlib\\backends\\backend_agg.py\", line 393, in draw\n",
      "    self.figure.draw(self.renderer)\n",
      "  File \"C:\\Users\\BIT_45\\anaconda3\\lib\\site-packages\\matplotlib\\backend_bases.py\", line 1556, in _draw\n",
      "    def _draw(renderer): raise Done(renderer)\n",
      "matplotlib.backend_bases._get_renderer.<locals>.Done: <matplotlib.backends.backend_agg.RendererAgg object at 0x000001D181A92520>\n"
     ]
    },
    {
     "data": {
      "image/png": "[encoded data removed]",
      "text/plain": [
       "<Figure size 576x288 with 2 Axes>"
      ]
     },
     "metadata": {
      "needs_background": "light"
     },
     "output_type": "display_data"
    }
   ],
   "source": [
    "# 필요한 모듈을 불러옵니다.\n",
    "import matplotlib.pyplot as plt\n",
    "%matplotlib tk\n",
    "\n",
    "# 그래프를 그릴 X, Y 값을 입력합니다.\n",
    "x = [1,2,3,4,5,6,7,8,9,10]\n",
    "y = [2,3,4,6,7,9,10,16,17,20]\n",
    "\n",
    "# Get the figure and the axes\n",
    "fig, (ax0, ax1) = plt.subplots(nrows=1,ncols=2, sharey=False, figsize=(8, 4))\n",
    "\n",
    "# 첫번째 그래프\n",
    "ax0.plot(x,y) # 선 그래프\n",
    "ax0.set_ylim([2,20]) # y축의 값을 지정\n",
    "ax0.set(title='First', xlabel='Score', ylabel='Time')"
   ]
  },
  {
   "cell_type": "code",
   "execution_count": null,
   "metadata": {},
   "outputs": [],
   "source": []
  }
 ],
 "metadata": {
  "kernelspec": {
   "display_name": "Python 3",
   "language": "python",
   "name": "python3"
  },
  "language_info": {
   "codemirror_mode": {
    "name": "ipython",
    "version": 3
   },
   "file_extension": ".py",
   "mimetype": "text/x-python",
   "name": "python",
   "nbconvert_exporter": "python",
   "pygments_lexer": "ipython3",
   "version": "3.8.3"
  },
  "toc": {
   "base_numbering": 1,
   "nav_menu": {},
   "number_sections": true,
   "sideBar": true,
   "skip_h1_title": false,
   "title_cell": "Table of Contents",
   "title_sidebar": "Contents",
   "toc_cell": false,
   "toc_position": {},
   "toc_section_display": true,
   "toc_window_display": false
  }
 },
 "nbformat": 4,
 "nbformat_minor": 4
}
