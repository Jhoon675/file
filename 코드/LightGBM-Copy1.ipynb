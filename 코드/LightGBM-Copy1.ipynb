{
 "cells": [
  {
   "cell_type": "markdown",
   "metadata": {},
   "source": [
    "#  위스콘신 유방암 예측"
   ]
  },
  {
   "cell_type": "code",
   "execution_count": 2,
   "metadata": {},
   "outputs": [],
   "source": [
    "from lightgbm import LGBMClassifier\n",
    "import pandas as pd\n",
    "import numpy as np\n",
    "from sklearn.datasets import load_breast_cancer\n",
    "from sklearn.model_selection import train_test_split\n",
    "from sklearn.metrics import accuracy_score, confusion_matrix, precision_score\n",
    "from sklearn.metrics import recall_score, f1_score ,roc_auc_score\n",
    "from lightgbm import plot_importance\n",
    "import matplotlib.pyplot as plt\n",
    "%matplotlib inline"
   ]
  },
  {
   "cell_type": "code",
   "execution_count": 3,
   "metadata": {},
   "outputs": [
    {
     "name": "stdout",
     "output_type": "stream",
     "text": [
      "[1]\tvalid_0's binary_logloss: 0.630031\n",
      "Training until validation scores don't improve for 100 rounds\n",
      "[2]\tvalid_0's binary_logloss: 0.607335\n",
      "[3]\tvalid_0's binary_logloss: 0.585795\n",
      "[4]\tvalid_0's binary_logloss: 0.566393\n",
      "[5]\tvalid_0's binary_logloss: 0.551676\n",
      "[6]\tvalid_0's binary_logloss: 0.541892\n",
      "[7]\tvalid_0's binary_logloss: 0.535487\n",
      "[8]\tvalid_0's binary_logloss: 0.526912\n",
      "[9]\tvalid_0's binary_logloss: 0.518037\n",
      "[10]\tvalid_0's binary_logloss: 0.512287\n",
      "[11]\tvalid_0's binary_logloss: 0.511588\n",
      "[12]\tvalid_0's binary_logloss: 0.504413\n",
      "[13]\tvalid_0's binary_logloss: 0.49867\n",
      "[14]\tvalid_0's binary_logloss: 0.496196\n",
      "[15]\tvalid_0's binary_logloss: 0.492987\n",
      "[16]\tvalid_0's binary_logloss: 0.489374\n",
      "[17]\tvalid_0's binary_logloss: 0.491211\n",
      "[18]\tvalid_0's binary_logloss: 0.491578\n",
      "[19]\tvalid_0's binary_logloss: 0.489177\n",
      "[20]\tvalid_0's binary_logloss: 0.488728\n",
      "[21]\tvalid_0's binary_logloss: 0.486497\n",
      "[22]\tvalid_0's binary_logloss: 0.48802\n",
      "[23]\tvalid_0's binary_logloss: 0.487214\n",
      "[24]\tvalid_0's binary_logloss: 0.488736\n",
      "[25]\tvalid_0's binary_logloss: 0.490997\n",
      "[26]\tvalid_0's binary_logloss: 0.496599\n",
      "[27]\tvalid_0's binary_logloss: 0.495966\n",
      "[28]\tvalid_0's binary_logloss: 0.501857\n",
      "[29]\tvalid_0's binary_logloss: 0.508221\n",
      "[30]\tvalid_0's binary_logloss: 0.51397\n",
      "[31]\tvalid_0's binary_logloss: 0.513942\n",
      "[32]\tvalid_0's binary_logloss: 0.51529\n",
      "[33]\tvalid_0's binary_logloss: 0.521391\n",
      "[34]\tvalid_0's binary_logloss: 0.523951\n",
      "[35]\tvalid_0's binary_logloss: 0.524666\n",
      "[36]\tvalid_0's binary_logloss: 0.527212\n",
      "[37]\tvalid_0's binary_logloss: 0.526908\n",
      "[38]\tvalid_0's binary_logloss: 0.527988\n",
      "[39]\tvalid_0's binary_logloss: 0.529194\n",
      "[40]\tvalid_0's binary_logloss: 0.528385\n",
      "[41]\tvalid_0's binary_logloss: 0.532464\n",
      "[42]\tvalid_0's binary_logloss: 0.534292\n",
      "[43]\tvalid_0's binary_logloss: 0.531969\n",
      "[44]\tvalid_0's binary_logloss: 0.536784\n",
      "[45]\tvalid_0's binary_logloss: 0.539515\n",
      "[46]\tvalid_0's binary_logloss: 0.542404\n",
      "[47]\tvalid_0's binary_logloss: 0.545273\n",
      "[48]\tvalid_0's binary_logloss: 0.545253\n",
      "[49]\tvalid_0's binary_logloss: 0.550342\n",
      "[50]\tvalid_0's binary_logloss: 0.554814\n",
      "[51]\tvalid_0's binary_logloss: 0.559975\n",
      "[52]\tvalid_0's binary_logloss: 0.562116\n",
      "[53]\tvalid_0's binary_logloss: 0.563142\n",
      "[54]\tvalid_0's binary_logloss: 0.563045\n",
      "[55]\tvalid_0's binary_logloss: 0.569118\n",
      "[56]\tvalid_0's binary_logloss: 0.574433\n",
      "[57]\tvalid_0's binary_logloss: 0.574219\n",
      "[58]\tvalid_0's binary_logloss: 0.57698\n",
      "[59]\tvalid_0's binary_logloss: 0.577963\n",
      "[60]\tvalid_0's binary_logloss: 0.583815\n",
      "[61]\tvalid_0's binary_logloss: 0.586495\n",
      "[62]\tvalid_0's binary_logloss: 0.585464\n",
      "[63]\tvalid_0's binary_logloss: 0.586762\n",
      "[64]\tvalid_0's binary_logloss: 0.590166\n",
      "[65]\tvalid_0's binary_logloss: 0.590517\n",
      "[66]\tvalid_0's binary_logloss: 0.593578\n",
      "[67]\tvalid_0's binary_logloss: 0.59491\n",
      "[68]\tvalid_0's binary_logloss: 0.599632\n",
      "[69]\tvalid_0's binary_logloss: 0.603081\n",
      "[70]\tvalid_0's binary_logloss: 0.608406\n",
      "[71]\tvalid_0's binary_logloss: 0.606121\n",
      "[72]\tvalid_0's binary_logloss: 0.609054\n",
      "[73]\tvalid_0's binary_logloss: 0.611754\n",
      "[74]\tvalid_0's binary_logloss: 0.614497\n",
      "[75]\tvalid_0's binary_logloss: 0.618739\n",
      "[76]\tvalid_0's binary_logloss: 0.621283\n",
      "[77]\tvalid_0's binary_logloss: 0.623477\n",
      "[78]\tvalid_0's binary_logloss: 0.624964\n",
      "[79]\tvalid_0's binary_logloss: 0.630906\n",
      "[80]\tvalid_0's binary_logloss: 0.634476\n",
      "[81]\tvalid_0's binary_logloss: 0.636419\n",
      "[82]\tvalid_0's binary_logloss: 0.640642\n",
      "[83]\tvalid_0's binary_logloss: 0.640494\n",
      "[84]\tvalid_0's binary_logloss: 0.642756\n",
      "[85]\tvalid_0's binary_logloss: 0.644921\n",
      "[86]\tvalid_0's binary_logloss: 0.648415\n",
      "[87]\tvalid_0's binary_logloss: 0.648527\n",
      "[88]\tvalid_0's binary_logloss: 0.651573\n",
      "[89]\tvalid_0's binary_logloss: 0.655352\n",
      "[90]\tvalid_0's binary_logloss: 0.658453\n",
      "[91]\tvalid_0's binary_logloss: 0.666531\n",
      "[92]\tvalid_0's binary_logloss: 0.671027\n",
      "[93]\tvalid_0's binary_logloss: 0.671836\n",
      "[94]\tvalid_0's binary_logloss: 0.676639\n",
      "[95]\tvalid_0's binary_logloss: 0.677099\n",
      "[96]\tvalid_0's binary_logloss: 0.681586\n",
      "[97]\tvalid_0's binary_logloss: 0.685278\n",
      "[98]\tvalid_0's binary_logloss: 0.687407\n",
      "[99]\tvalid_0's binary_logloss: 0.689259\n",
      "[100]\tvalid_0's binary_logloss: 0.691833\n",
      "[101]\tvalid_0's binary_logloss: 0.69846\n",
      "[102]\tvalid_0's binary_logloss: 0.703156\n",
      "[103]\tvalid_0's binary_logloss: 0.708851\n",
      "[104]\tvalid_0's binary_logloss: 0.713383\n",
      "[105]\tvalid_0's binary_logloss: 0.716449\n",
      "[106]\tvalid_0's binary_logloss: 0.720746\n",
      "[107]\tvalid_0's binary_logloss: 0.725801\n",
      "[108]\tvalid_0's binary_logloss: 0.726695\n",
      "[109]\tvalid_0's binary_logloss: 0.727732\n",
      "[110]\tvalid_0's binary_logloss: 0.731897\n",
      "[111]\tvalid_0's binary_logloss: 0.732543\n",
      "[112]\tvalid_0's binary_logloss: 0.734637\n",
      "[113]\tvalid_0's binary_logloss: 0.738139\n",
      "[114]\tvalid_0's binary_logloss: 0.740514\n",
      "[115]\tvalid_0's binary_logloss: 0.74586\n",
      "[116]\tvalid_0's binary_logloss: 0.752503\n",
      "[117]\tvalid_0's binary_logloss: 0.755639\n",
      "[118]\tvalid_0's binary_logloss: 0.757901\n",
      "[119]\tvalid_0's binary_logloss: 0.761029\n",
      "[120]\tvalid_0's binary_logloss: 0.763844\n",
      "[121]\tvalid_0's binary_logloss: 0.76852\n",
      "Early stopping, best iteration is:\n",
      "[21]\tvalid_0's binary_logloss: 0.486497\n"
     ]
    }
   ],
   "source": [
    "dataset= pd.read_csv('sklearn_csv/pima_data.csv')\n",
    "\n",
    "target = dataset['Outcome'].tolist()\n",
    "ftr = dataset.drop('Outcome', axis=1)\n",
    "\n",
    "# 학습 80 테스트 20으로 데이터 추출\n",
    "X_train, X_test, y_train, y_test =train_test_split(ftr, target, test_size=0.2, random_state=156)\n",
    "\n",
    "# n_estimators 400으로 설정\n",
    "lgbm_wrapper = LGBMClassifier(n_estimators=400)\n",
    "\n",
    "# LightGBM도 XGBOOST와 동일하게 조기 중단 수행 가능\n",
    "evals = [(X_test, y_test)]\n",
    "lgbm_wrapper.fit(X_train,y_train, early_stopping_rounds=100, eval_metric=\"logloss\", eval_set=evals, verbose=True)\n",
    "preds = lgbm_wrapper.predict(X_test)\n",
    "pred_proba = lgbm_wrapper.predict_proba(X_test)[:, 1]"
   ]
  },
  {
   "cell_type": "code",
   "execution_count": 4,
   "metadata": {},
   "outputs": [],
   "source": [
    "def get_clf_eval(y_test, pred=None, pred_proba=None):\n",
    "    confusion = confusion_matrix(y_test, pred)\n",
    "    accuracy = accuracy_score(y_test, pred)\n",
    "    precision = precision_score(y_test, pred)\n",
    "    recall = recall_score(y_test, pred)\n",
    "    f1 = f1_score(y_test, pred)\n",
    "    # ROC-AUC 추가\n",
    "    roc_auc = roc_auc_score(y_test, pred_proba)\n",
    "    print('오차 행렬')\n",
    "    print(confusion)\n",
    "    # ROC-AUC print 추가\n",
    "    print('정확도: {0:.4f}, 정밀도: {1:.4f}, 재현율: {2:.4f}, F1: {3:.4f}, AUC:{4:.4f}'.format(accuracy,precision,recall,f1,roc_auc))"
   ]
  },
  {
   "cell_type": "code",
   "execution_count": 5,
   "metadata": {},
   "outputs": [
    {
     "name": "stdout",
     "output_type": "stream",
     "text": [
      "오차 행렬\n",
      "[[84 13]\n",
      " [26 31]]\n",
      "정확도: 0.7468, 정밀도: 0.7045, 재현율: 0.5439, F1: 0.6139, AUC:0.8291\n"
     ]
    }
   ],
   "source": [
    "get_clf_eval(y_test, preds, pred_proba)"
   ]
  },
  {
   "cell_type": "code",
   "execution_count": 6,
   "metadata": {},
   "outputs": [
    {
     "data": {
      "text/plain": [
       "<matplotlib.axes._subplots.AxesSubplot at 0x28b3db0bc40>"
      ]
     },
     "execution_count": 6,
     "metadata": {},
     "output_type": "execute_result"
    },
    {
     "data": {
      "image/png": "[encoded data removed]",
      "text/plain": [
       "<Figure size 720x864 with 1 Axes>"
      ]
     },
     "metadata": {
      "needs_background": "light"
     },
     "output_type": "display_data"
    }
   ],
   "source": [
    "# plot_importance()를 이용해 피처 중요도 시각화\n",
    "\n",
    "fig, ax = plt.subplots(figsize=(10, 12))\n",
    "plot_importance(lgbm_wrapper, ax=ax)"
   ]
  },
  {
   "cell_type": "code",
   "execution_count": null,
   "metadata": {},
   "outputs": [],
   "source": []
  }
 ],
 "metadata": {
  "kernelspec": {
   "display_name": "Python 3",
   "language": "python",
   "name": "python3"
  },
  "language_info": {
   "codemirror_mode": {
    "name": "ipython",
    "version": 3
   },
   "file_extension": ".py",
   "mimetype": "text/x-python",
   "name": "python",
   "nbconvert_exporter": "python",
   "pygments_lexer": "ipython3",
   "version": "3.8.3"
  },
  "toc": {
   "base_numbering": 1,
   "nav_menu": {},
   "number_sections": true,
   "sideBar": true,
   "skip_h1_title": false,
   "title_cell": "Table of Contents",
   "title_sidebar": "Contents",
   "toc_cell": false,
   "toc_position": {},
   "toc_section_display": true,
   "toc_window_display": false
  }
 },
 "nbformat": 4,
 "nbformat_minor": 4
}
